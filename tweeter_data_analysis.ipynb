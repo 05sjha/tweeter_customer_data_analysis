{
 "cells": [
  {
   "cell_type": "code",
   "execution_count": 2,
   "metadata": {},
   "outputs": [
    {
     "name": "stdout",
     "output_type": "stream",
     "text": [
      "hello\n"
     ]
    }
   ],
   "source": [
    "This \n",
    "\n"
   ]
  },
  {
   "cell_type": "code",
   "execution_count": null,
   "metadata": {},
   "outputs": [],
   "source": []
  },
  {
   "cell_type": "code",
   "execution_count": 4,
   "metadata": {},
   "outputs": [
    {
     "ename": "ModuleNotFoundError",
     "evalue": "No module named 'helper'",
     "output_type": "error",
     "traceback": [
      "\u001b[1;31m---------------------------------------------------------------------------\u001b[0m",
      "\u001b[1;31mModuleNotFoundError\u001b[0m                       Traceback (most recent call last)",
      "\u001b[1;32m<ipython-input-4-539cacdb6617>\u001b[0m in \u001b[0;36m<module>\u001b[1;34m\u001b[0m\n\u001b[0;32m      1\u001b[0m \u001b[1;32mimport\u001b[0m \u001b[0mnumpy\u001b[0m \u001b[1;32mas\u001b[0m \u001b[0mnp\u001b[0m\u001b[1;33m\u001b[0m\u001b[1;33m\u001b[0m\u001b[0m\n\u001b[0;32m      2\u001b[0m \u001b[1;32mimport\u001b[0m \u001b[0mpandas\u001b[0m \u001b[1;32mas\u001b[0m \u001b[0mpd\u001b[0m\u001b[1;33m\u001b[0m\u001b[1;33m\u001b[0m\u001b[0m\n\u001b[1;32m----> 3\u001b[1;33m \u001b[1;32mfrom\u001b[0m \u001b[0mhelper\u001b[0m \u001b[1;32mimport\u001b[0m \u001b[1;33m*\u001b[0m\u001b[1;33m\u001b[0m\u001b[1;33m\u001b[0m\u001b[0m\n\u001b[0m\u001b[0;32m      4\u001b[0m \u001b[1;31m# from langid.langid import LanguageIdentifier, model\u001b[0m\u001b[1;33m\u001b[0m\u001b[1;33m\u001b[0m\u001b[1;33m\u001b[0m\u001b[0m\n\u001b[0;32m      5\u001b[0m \u001b[1;32mimport\u001b[0m \u001b[0mpickle\u001b[0m \u001b[1;32mas\u001b[0m \u001b[0mpk\u001b[0m\u001b[1;33m\u001b[0m\u001b[1;33m\u001b[0m\u001b[0m\n",
      "\u001b[1;31mModuleNotFoundError\u001b[0m: No module named 'helper'"
     ]
    }
   ],
   "source": [
    "import numpy as np\n",
    "import pandas as pd\n",
    "from helper import *\n",
    "# from langid.langid import LanguageIdentifier, model\n",
    "import pickle as pk\n",
    "from sklearn.feature_extraction.text import CountVectorizer\n",
    "from sklearn.feature_extraction import text\n",
    "\n",
    "\n",
    "# from sklearn.feature_extraction.text import TfidfVectorizer, CountVectorizer\n",
    "# from sklearn.decomposition import NMF, LatentDirichletAllocation\n",
    "\n",
    "data = pd.read_csv(r\"D:\\data science\\New folder\\4133_8841_bundle_archive/twcs.csv\",nrows=1000)\n",
    "data.shape\n",
    "data.head()\n",
    "# print(data['author_id'][1].isdigit())\n",
    "customer_id=[]\n",
    "company_name=[]\n",
    "for i in data['author_id']:\n",
    "    if i.isdigit():\n",
    "        customer_id.append(i)\n",
    "    else:\n",
    "        company_name.append(i)\n",
    "cust_id=np.unique(customer_id)\n",
    "comp_list=np.unique(company_name)\n",
    "# print(comp_list)\n",
    "add_stop_word=[i.lower() for i in comp_list]\n",
    "data_dict={}\n",
    "for i in comp_list:\n",
    "    keyword='@'+i\n",
    "    val=[]\n",
    "    key=keyword\n",
    "    # print(keyword)\n",
    "    for k in data['text']:\n",
    "\n",
    "        if (k.find(keyword)!=-1):\n",
    "            val.append(k)\n",
    "            # value=k\n",
    "            # print(k,'\\n\\n\\n')\n",
    "        data_dict[key]=val\n",
    "def combine_text(list_of_text):\n",
    "    combine_text=' '.join(list_of_text)\n",
    "    return combine_text\n",
    "# print(data_dict)\n",
    "# next(iter(data_dict.keys()))\n",
    "# next(iter(data_dict.values()))\n",
    "# len(next(iter(data_dict.values())))\n",
    "data_combined={key:[combine_text(value)] for (key,value) in data_dict.items()}\n",
    "pd.set_option('max_colwidth',100)\n",
    "raw_df=pd.DataFrame.from_dict(data_combined).transpose()\n",
    "raw_df.columns=['tweets']\n",
    "raw_df=raw_df.sort_index()\n",
    "# print(raw_df.head())\n",
    "raw_df['company name']=comp_list\n",
    "raw_df = raw_df[raw_df.tweets != '']\n",
    "clean_data= pd.DataFrame(raw_df.tweets.apply(lambda x: preprocessing(x)))\n",
    "\n",
    "\n",
    "texts=pd.DataFrame(clean_data.tweets.apply(lambda x: combine_text(x)))\n",
    "df=CountVectorizer(lowercase=False)\n",
    "data_df=df.fit_transform(texts.tweets)\n",
    "df_dtm=pd.DataFrame(data_df.toarray(),columns=df.get_feature_names())\n",
    "df_dtm.index=texts.index\n",
    "\n",
    "raw_df.to_pickle('corpus.pkl')\n",
    "texts.to_pickle('clean_data1.pkl')\n",
    "pk.dump(df,open('cv.pkl','wb'))\n",
    "df_dtm.to_pickle('doc_term_mat.pkl')"
   ]
  },
  {
   "cell_type": "code",
   "execution_count": null,
   "metadata": {},
   "outputs": [],
   "source": []
  }
 ],
 "metadata": {
  "kernelspec": {
   "display_name": "Python 3",
   "language": "python",
   "name": "python3"
  },
  "language_info": {
   "codemirror_mode": {
    "name": "ipython",
    "version": 3
   },
   "file_extension": ".py",
   "mimetype": "text/x-python",
   "name": "python",
   "nbconvert_exporter": "python",
   "pygments_lexer": "ipython3",
   "version": "3.7.7"
  }
 },
 "nbformat": 4,
 "nbformat_minor": 4
}
